{
 "cells": [
  {
   "cell_type": "markdown",
   "metadata": {},
   "source": [
    "# Phylo2Matrix - Demo"
   ]
  },
  {
   "cell_type": "markdown",
   "metadata": {},
   "source": [
    "## Python"
   ]
  },
  {
   "cell_type": "markdown",
   "metadata": {},
   "source": [
    "### 3rd party imports"
   ]
  },
  {
   "cell_type": "code",
   "execution_count": 1,
   "metadata": {},
   "outputs": [
    {
     "name": "stdout",
     "output_type": "stream",
     "text": [
      "Collecting PyQt5\n",
      "  Using cached PyQt5-5.15.11-cp38-abi3-manylinux_2_17_x86_64.whl.metadata (2.1 kB)\n",
      "Collecting PyQt5-sip<13,>=12.15 (from PyQt5)\n",
      "  Using cached PyQt5_sip-12.15.0-cp310-cp310-manylinux_2_5_x86_64.manylinux1_x86_64.whl.metadata (421 bytes)\n",
      "Collecting PyQt5-Qt5<5.16.0,>=5.15.2 (from PyQt5)\n",
      "  Using cached PyQt5_Qt5-5.15.15-py3-none-manylinux2014_x86_64.whl.metadata (536 bytes)\n",
      "Using cached PyQt5-5.15.11-cp38-abi3-manylinux_2_17_x86_64.whl (8.2 MB)\n",
      "Using cached PyQt5_Qt5-5.15.15-py3-none-manylinux2014_x86_64.whl (59.8 MB)\n",
      "Using cached PyQt5_sip-12.15.0-cp310-cp310-manylinux_2_5_x86_64.manylinux1_x86_64.whl (270 kB)\n",
      "Installing collected packages: PyQt5-Qt5, PyQt5-sip, PyQt5\n",
      "Successfully installed PyQt5-5.15.11 PyQt5-Qt5-5.15.15 PyQt5-sip-12.15.0\n"
     ]
    }
   ],
   "source": [
    "!pip install PyQt5"
   ]
  },
  {
   "cell_type": "code",
   "execution_count": 2,
   "metadata": {},
   "outputs": [],
   "source": [
    "import itertools\n",
    "\n",
    "import matplotlib.pyplot as plt\n",
    "import numpy as np\n",
    "\n",
    "from ete3 import Tree\n",
    "from matplotlib.collections import LineCollection"
   ]
  },
  {
   "cell_type": "markdown",
   "metadata": {},
   "source": [
    "### Definition\n",
    "\n",
    "* Newick strings can also have branch lengths, so it is also desirable to store not only the topology (which the core Phylo2Vec does), but also the branch lengths\n",
    "\n",
    "In this setup:\n",
    "* The 1st column is v[i]\n",
    "* The 2nd and 3rd columns are the branch lengths of cherry $i$ in the ancestry matrix"
   ]
  },
  {
   "cell_type": "markdown",
   "metadata": {},
   "source": [
    "### Sampling a random tree"
   ]
  },
  {
   "cell_type": "code",
   "execution_count": 3,
   "metadata": {},
   "outputs": [
    {
     "name": "stdout",
     "output_type": "stream",
     "text": [
      "\u001b[0;31mSignature:\u001b[0m\n",
      "\u001b[0msample_matrix\u001b[0m\u001b[0;34m(\u001b[0m\u001b[0;34m\u001b[0m\n",
      "\u001b[0;34m\u001b[0m    \u001b[0mn_leaves\u001b[0m\u001b[0;34m,\u001b[0m\u001b[0;34m\u001b[0m\n",
      "\u001b[0;34m\u001b[0m    \u001b[0mordered\u001b[0m\u001b[0;34m=\u001b[0m\u001b[0;32mFalse\u001b[0m\u001b[0;34m,\u001b[0m\u001b[0;34m\u001b[0m\n",
      "\u001b[0;34m\u001b[0m    \u001b[0mbranch_length_distribution\u001b[0m\u001b[0;34m=\u001b[0m\u001b[0;34m'uniform'\u001b[0m\u001b[0;34m,\u001b[0m\u001b[0;34m\u001b[0m\n",
      "\u001b[0;34m\u001b[0m    \u001b[0;34m**\u001b[0m\u001b[0mkwargs\u001b[0m\u001b[0;34m,\u001b[0m\u001b[0;34m\u001b[0m\n",
      "\u001b[0;34m\u001b[0m\u001b[0;34m)\u001b[0m\u001b[0;34m\u001b[0m\u001b[0;34m\u001b[0m\u001b[0m\n",
      "\u001b[0;31mDocstring:\u001b[0m\n",
      "Sample a random tree with branch lengths via Phylo2Vec\n",
      "\n",
      "By default, branch lengths are sampled uniformly in (0, 1)\n",
      "\n",
      "1st column: v (topology)\n",
      "2nd and 3rd columns: branch lengths of cherry $i$ in the ancestry matrix\n",
      "\n",
      "Parameters\n",
      "----------\n",
      "n_leaves : int\n",
      "    Number of leaves\n",
      "ordered : bool, optional\n",
      "    If True, sample an ordered tree topology, by default False\n",
      "\n",
      "    True:\n",
      "    v_i in {0, 1, ..., i} for i in (0, n_leaves-1)\n",
      "\n",
      "    False:\n",
      "    v_i in {0, 1, ..., 2*i} for i in (0, n_leaves-1)\n",
      "branch_length_distribution : str, optional\n",
      "    Distribution upon which branch lengths are distributed, by default 'uniform'\n",
      "kwargs :\n",
      "    All optional arguments are passed to the branch length distribution\n",
      "\n",
      "Returns\n",
      "-------\n",
      "numpy.ndarray\n",
      "    Phylo2Mat matrix\n",
      "\u001b[0;31mFile:\u001b[0m      ~/src/phylo2vec/phylo2vec_dev/phylo2vec/utils/random.py\n",
      "\u001b[0;31mType:\u001b[0m      function"
     ]
    }
   ],
   "source": [
    "from phylo2vec.utils import sample_matrix, seed_everything\n",
    "\n",
    "seed_everything(42)\n",
    "\n",
    "sample_matrix?"
   ]
  },
  {
   "cell_type": "code",
   "execution_count": 7,
   "metadata": {},
   "outputs": [
    {
     "name": "stdout",
     "output_type": "stream",
     "text": [
      "array([[ 0.        ,  0.37451172,  0.9506836 ],\n",
      "       [ 2.        ,  0.7319336 ,  0.5986328 ],\n",
      "       [ 0.        ,  0.15600586,  0.15600586],\n",
      "       [ 4.        ,  0.05807495,  0.86621094],\n",
      "       [ 7.        ,  0.6010742 ,  0.7080078 ],\n",
      "       [10.        ,  0.02058411,  0.96972656],\n",
      "       [ 6.        ,  0.83251953,  0.21228027],\n",
      "       [ 7.        ,  0.18188477,  0.18334961],\n",
      "       [11.        ,  0.30419922,  0.52490234]], dtype=float32)\n"
     ]
    }
   ],
   "source": [
    "m = sample_matrix(n_leaves=10)\n",
    "\n",
    "print(repr(m))"
   ]
  },
  {
   "cell_type": "code",
   "execution_count": 8,
   "metadata": {},
   "outputs": [
    {
     "name": "stdout",
     "output_type": "stream",
     "text": [
      "array([[0.        , 0.43188477, 0.29125977],\n",
      "       [1.        , 0.6118164 , 0.13952637],\n",
      "       [1.        , 0.29223633, 0.36645508],\n",
      "       [3.        , 0.4560547 , 0.78515625],\n",
      "       [0.        , 0.19970703, 0.51416016],\n",
      "       [0.        , 0.59228516, 0.04644775],\n",
      "       [1.        , 0.6074219 , 0.17053223],\n",
      "       [6.        , 0.06506348, 0.94873047],\n",
      "       [7.        , 0.9658203 , 0.80859375]], dtype=float32)\n"
     ]
    }
   ],
   "source": [
    "m_ordered = sample_matrix(n_leaves=10, ordered=True)\n",
    "\n",
    "print(repr(m_ordered))"
   ]
  },
  {
   "cell_type": "markdown",
   "metadata": {},
   "source": [
    "We can also check that a matrix is valid\n",
    "\n",
    "This checks that the topology is correct and that the branch lengths are positive"
   ]
  },
  {
   "cell_type": "code",
   "execution_count": 3,
   "metadata": {},
   "outputs": [
    {
     "name": "stdout",
     "output_type": "stream",
     "text": [
      "\u001b[0;31mSignature:\u001b[0m \u001b[0mcheck_m\u001b[0m\u001b[0;34m(\u001b[0m\u001b[0mm\u001b[0m\u001b[0;34m)\u001b[0m\u001b[0;34m\u001b[0m\u001b[0;34m\u001b[0m\u001b[0m\n",
      "\u001b[0;31mDocstring:\u001b[0m\n",
      "Input validation of a Phylo2Mat matrix\n",
      "\n",
      "The input is checked for the Phylo2Vec constraints and positive branch lengths\n",
      "\n",
      "Parameters\n",
      "----------\n",
      "m : numpy.ndarray\n",
      "    Phylo2Mat matrix\n",
      "\u001b[0;31mFile:\u001b[0m      ~/src/phylo2vec_dev/phylo2vec/utils/validation.py\n",
      "\u001b[0;31mType:\u001b[0m      function"
     ]
    }
   ],
   "source": [
    "from phylo2vec.utils import check_m\n",
    "\n",
    "check_m?"
   ]
  },
  {
   "cell_type": "code",
   "execution_count": 10,
   "metadata": {},
   "outputs": [
    {
     "name": "stdout",
     "output_type": "stream",
     "text": [
      "[ 0.  2.  0.  4.  7. 11.  6.  7. 11.] [ True  True  True  True  True  True  True  True  True] [ True  True  True  True  True False  True  True  True]\n"
     ]
    },
    {
     "ename": "AssertionError",
     "evalue": "None",
     "output_type": "error",
     "traceback": [
      "\u001b[0;31m---------------------------------------------------------------------------\u001b[0m",
      "\u001b[0;31mAssertionError\u001b[0m                            Traceback (most recent call last)",
      "Cell \u001b[0;32mIn[10], line 7\u001b[0m\n\u001b[1;32m      3\u001b[0m v_awkward \u001b[38;5;241m=\u001b[39m m\u001b[38;5;241m.\u001b[39mcopy()\n\u001b[1;32m      5\u001b[0m v_awkward[\u001b[38;5;241m5\u001b[39m] \u001b[38;5;241m=\u001b[39m \u001b[38;5;241m11\u001b[39m\n\u001b[0;32m----> 7\u001b[0m \u001b[43mcheck_m\u001b[49m\u001b[43m(\u001b[49m\u001b[43mv_awkward\u001b[49m\u001b[43m)\u001b[49m  \u001b[38;5;66;03m# AssertionError\u001b[39;00m\n",
      "File \u001b[0;32m~/src/phylo2vec_dev/phylo2vec/utils/validation.py:34\u001b[0m, in \u001b[0;36mcheck_m\u001b[0;34m(m)\u001b[0m\n\u001b[1;32m     23\u001b[0m \u001b[38;5;28;01mdef\u001b[39;00m \u001b[38;5;21mcheck_m\u001b[39m(m):\n\u001b[1;32m     24\u001b[0m \u001b[38;5;250m    \u001b[39m\u001b[38;5;124;03m\"\"\"Input validation of a Phylo2Mat matrix\u001b[39;00m\n\u001b[1;32m     25\u001b[0m \n\u001b[1;32m     26\u001b[0m \u001b[38;5;124;03m    The input is checked for the Phylo2Vec constraints and positive branch lengths\u001b[39;00m\n\u001b[0;32m   (...)\u001b[0m\n\u001b[1;32m     31\u001b[0m \u001b[38;5;124;03m        Phylo2Mat matrix\u001b[39;00m\n\u001b[1;32m     32\u001b[0m \u001b[38;5;124;03m    \"\"\"\u001b[39;00m\n\u001b[0;32m---> 34\u001b[0m     \u001b[43mcheck_v\u001b[49m\u001b[43m(\u001b[49m\u001b[43mm\u001b[49m\u001b[43m[\u001b[49m\u001b[43m:\u001b[49m\u001b[43m,\u001b[49m\u001b[43m \u001b[49m\u001b[38;5;241;43m0\u001b[39;49m\u001b[43m]\u001b[49m\u001b[43m)\u001b[49m\n\u001b[1;32m     36\u001b[0m     \u001b[38;5;28;01massert\u001b[39;00m np\u001b[38;5;241m.\u001b[39mall(m[:, \u001b[38;5;241m1\u001b[39m:] \u001b[38;5;241m>\u001b[39m \u001b[38;5;241m0\u001b[39m)\n",
      "File \u001b[0;32m~/src/phylo2vec_dev/phylo2vec/utils/validation.py:20\u001b[0m, in \u001b[0;36mcheck_v\u001b[0;34m(v)\u001b[0m\n\u001b[1;32m     16\u001b[0m k \u001b[38;5;241m=\u001b[39m \u001b[38;5;28mlen\u001b[39m(v)\n\u001b[1;32m     18\u001b[0m v_max \u001b[38;5;241m=\u001b[39m \u001b[38;5;241m2\u001b[39m \u001b[38;5;241m*\u001b[39m np\u001b[38;5;241m.\u001b[39marange(k)\n\u001b[0;32m---> 20\u001b[0m \u001b[38;5;28;01massert\u001b[39;00m np\u001b[38;5;241m.\u001b[39mall((\u001b[38;5;241m0\u001b[39m \u001b[38;5;241m<\u001b[39m\u001b[38;5;241m=\u001b[39m v) \u001b[38;5;241m&\u001b[39m (v \u001b[38;5;241m<\u001b[39m\u001b[38;5;241m=\u001b[39m v_max)), \u001b[38;5;28mprint\u001b[39m(v, v \u001b[38;5;241m>\u001b[39m\u001b[38;5;241m=\u001b[39m \u001b[38;5;241m0\u001b[39m, v \u001b[38;5;241m<\u001b[39m\u001b[38;5;241m=\u001b[39m v_max)\n",
      "\u001b[0;31mAssertionError\u001b[0m: None"
     ]
    }
   ],
   "source": [
    "check_m(m)  # returns None\n",
    "\n",
    "v_awkward = m.copy()\n",
    "\n",
    "v_awkward[5] = 11\n",
    "\n",
    "check_m(v_awkward)  # AssertionError"
   ]
  },
  {
   "cell_type": "markdown",
   "metadata": {},
   "source": [
    "### Converting a matrix to a Newick string\n",
    "\n",
    "* ```to_newick``` is a wrapper of two functions: ```_get_ancestry``` and ```_build_newick```"
   ]
  },
  {
   "cell_type": "code",
   "execution_count": 4,
   "metadata": {},
   "outputs": [
    {
     "name": "stdout",
     "output_type": "stream",
     "text": [
      "\u001b[0;31mSignature:\u001b[0m \u001b[0mto_newick\u001b[0m\u001b[0;34m(\u001b[0m\u001b[0mm\u001b[0m\u001b[0;34m)\u001b[0m\u001b[0;34m\u001b[0m\u001b[0;34m\u001b[0m\u001b[0m\n",
      "\u001b[0;31mDocstring:\u001b[0m\n",
      "Recover a rooted tree (in Newick format) from a Phylo2Mat m\n",
      "\n",
      "The functions wraps the base function ```_get_ancestry```\n",
      "and a new _build_newick_with_bls which takes into account branch lengths\n",
      "\n",
      "Parameters\n",
      "----------\n",
      "m : numpy.array\n",
      "    Phylo2Mat matrix\n",
      "\n",
      "* 1st column is v[i]\n",
      "* 2nd and 3rd columns: branch lengths of cherry $i$ in the ancestry matrix\n",
      "\n",
      "Returns\n",
      "-------\n",
      "newick : str\n",
      "    Newick tree\n",
      "\u001b[0;31mFile:\u001b[0m      ~/src/phylo2vec/phylo2vec_dev/phylo2vec/matrix/to_newick.py\n",
      "\u001b[0;31mType:\u001b[0m      function"
     ]
    }
   ],
   "source": [
    "from phylo2vec.matrix import to_newick\n",
    "\n",
    "to_newick?"
   ]
  },
  {
   "cell_type": "code",
   "execution_count": 8,
   "metadata": {},
   "outputs": [
    {
     "name": "stdout",
     "output_type": "stream",
     "text": [
      "(((((((0:0.156006,3:0.156006)12:0.058075,9:0.866211)13:0.601074,4:0.708008)14:0.020584,1:0.969727)15:0.83252,5:0.21228)16:0.181885,2:0.18335)17:0.304199,(6:0.731934,(7:0.374512,8:0.950684)10:0.598633)11:0.524902)18;\n"
     ]
    }
   ],
   "source": [
    "newick = to_newick(m)\n",
    "\n",
    "print(newick)"
   ]
  },
  {
   "cell_type": "code",
   "execution_count": 3,
   "metadata": {},
   "outputs": [],
   "source": [
    "def plot_tree_ete3(\n",
    "    newick,\n",
    "    align_names=False,\n",
    "    name_offset=None,\n",
    "    font_size=9,\n",
    "    label_with_node_style=True,\n",
    "    ax=None,\n",
    "):\n",
    "    \"\"\"\n",
    "    Plots a ete3.Tree object using matploltib.\n",
    "\n",
    "    Adapted from: https://gist.github.com/jolespin/5d90deff552138d73de7ed4bdd9ac57a\n",
    "\n",
    "    Parameters\n",
    "    ----------\n",
    "    newick : str\n",
    "    align_names: bool\n",
    "        If True names will be aligned vertically, by default False\n",
    "    name_offset : float, optional\n",
    "        Offset relative to tips to write leaf_names. In BL scale, by default None\n",
    "    font_size : int, optional\n",
    "        Text font size, by default 9\n",
    "    label_with_node_style : bool, optional\n",
    "        If True, color the node label with the node's style color, by default True\n",
    "    ax : matplotlib.Axes object, optional\n",
    "        Object on which the tree will be plotted, by default None\n",
    "\n",
    "    Returns\n",
    "    -------\n",
    "    ax : matplotlib.Axes object\n",
    "        The matplotlib axis containing the drawn tree\n",
    "    \"\"\"\n",
    "    # https://chart-studio.plotly.com/~empet/14819.embed\n",
    "    tree = Tree(newick, format=1)\n",
    "\n",
    "    shape_dict = {\"circle\": \"o\", \"square\": \"s\", \"sphere\": \"o\"}\n",
    "    linestyle_dict = dict(enumerate((\"-\", \"--\", \":\")))\n",
    "\n",
    "    if ax is None:\n",
    "        ax = plt.gca()\n",
    "\n",
    "    aligned_lines = []\n",
    "\n",
    "    max_x = max(n.get_distance(tree) for n in tree.iter_leaves())\n",
    "\n",
    "    if name_offset is None:\n",
    "        name_offset = max_x / 50.0\n",
    "\n",
    "    node_pos = {n2: i for i, n2 in enumerate(tree.get_leaves()[::-1])}\n",
    "    node_list = itertools.chain(tree.iter_descendants(strategy=\"postorder\"), [tree])\n",
    "\n",
    "    # draw tree\n",
    "    for node in node_list:\n",
    "        # Parent style\n",
    "        pstyle = node.img_style\n",
    "\n",
    "        x = sum(n2.dist for n2 in node.iter_ancestors()) + node.dist\n",
    "\n",
    "        if node.is_leaf():\n",
    "            y = node_pos[node]\n",
    "            if align_names:\n",
    "                x = max_x\n",
    "                aligned_lines.append(((x, y), (max_x + name_offset, y)))\n",
    "\n",
    "        else:\n",
    "            y = np.mean([node_pos[n2] for n2 in node.children])\n",
    "            node_pos[node] = y\n",
    "\n",
    "            # draw vertical line\n",
    "            ax.plot(\n",
    "                [x, x],\n",
    "                [node_pos[node.children[0]], node_pos[node.children[-1]]],\n",
    "                c=pstyle[\"vt_line_color\"],\n",
    "                linestyle=linestyle_dict[pstyle[\"vt_line_type\"]],\n",
    "                linewidth=0.5 * (pstyle[\"vt_line_width\"] + 1),\n",
    "            )\n",
    "\n",
    "            # draw horizontal lines\n",
    "            for child in node.children:\n",
    "                # Child style\n",
    "                cstyle = child.img_style\n",
    "                ax.plot(\n",
    "                    [x, x + child.dist],\n",
    "                    [node_pos[child], node_pos[child]],\n",
    "                    c=cstyle[\"hz_line_color\"],\n",
    "                    linestyle=linestyle_dict[cstyle[\"hz_line_type\"]],\n",
    "                    linewidth=0.5 * (cstyle[\"hz_line_width\"] + 1),\n",
    "                )\n",
    "\n",
    "        # Node label\n",
    "        ax.text(\n",
    "            x + name_offset,\n",
    "            y,\n",
    "            node.name,\n",
    "            va=\"center\",\n",
    "            size=font_size,\n",
    "            c=pstyle[\"fgcolor\"] if label_with_node_style else \"k\",\n",
    "        )\n",
    "\n",
    "        # Node point\n",
    "        ax.scatter(\n",
    "            x,\n",
    "            y,\n",
    "            s=pstyle[\"size\"] ** 2 / 2,\n",
    "            marker=shape_dict[pstyle[\"shape\"]],\n",
    "            c=pstyle[\"fgcolor\"],\n",
    "            zorder=10,\n",
    "        )\n",
    "\n",
    "    ali_line_col = LineCollection(aligned_lines, colors=\"k\")\n",
    "\n",
    "    ax.add_collection(ali_line_col)\n",
    "\n",
    "    ax.set_axis_off()\n",
    "    return ax"
   ]
  },
  {
   "cell_type": "markdown",
   "metadata": {},
   "source": [
    "Example to understand the matrix form is the fourth row of ```m```:\n",
    "\n",
    "``` [ 4.        ,  0.05807495,  0.86621094]```\n",
    "\n",
    "We see here that the branch yielding leaf 4 \"sprouted\" early on (0.05 away from its parents) and pretty far (branch length of 0.866)."
   ]
  },
  {
   "cell_type": "code",
   "execution_count": 14,
   "metadata": {},
   "outputs": [
    {
     "data": {
      "image/png": "[encoded data removed]",
      "text/plain": [
       "<Figure size 640x480 with 1 Axes>"
      ]
     },
     "metadata": {},
     "output_type": "display_data"
    }
   ],
   "source": [
    "plot_tree_ete3(newick)\n",
    "plt.show()"
   ]
  },
  {
   "cell_type": "markdown",
   "metadata": {},
   "source": [
    "### Converting a Newick with branch lengths to a matrix"
   ]
  },
  {
   "cell_type": "code",
   "execution_count": 5,
   "metadata": {},
   "outputs": [
    {
     "name": "stdout",
     "output_type": "stream",
     "text": [
      "\u001b[0;31mSignature:\u001b[0m \u001b[0mto_matrix\u001b[0m\u001b[0;34m(\u001b[0m\u001b[0mnewick\u001b[0m\u001b[0;34m)\u001b[0m\u001b[0;34m\u001b[0m\u001b[0;34m\u001b[0m\u001b[0m\n",
      "\u001b[0;31mDocstring:\u001b[0m\n",
      "Convert a Newick string with parent labels and branch lengths to a matrix\n",
      "\n",
      "This functions wraps a new _reduce function with branch lengths\n",
      "and the base functions ```_find_cherries``` and ```_build_vector```\n",
      "\n",
      "Parameters\n",
      "----------\n",
      "newick : str\n",
      "    Newick string for a tree\n",
      "\n",
      "Returns\n",
      "-------\n",
      "m : numpy.ndarray\n",
      "    Phylo2Mat matrix\n",
      "\u001b[0;31mFile:\u001b[0m      ~/src/phylo2vec_dev/phylo2vec/matrix/to_matrix.py\n",
      "\u001b[0;31mType:\u001b[0m      function"
     ]
    }
   ],
   "source": [
    "from phylo2vec.matrix import to_matrix\n",
    "\n",
    "to_matrix?"
   ]
  },
  {
   "cell_type": "code",
   "execution_count": 6,
   "metadata": {},
   "outputs": [
    {
     "name": "stdout",
     "output_type": "stream",
     "text": [
      "m (sampled):\n",
      "array([[0.        , 0.37451172, 0.9506836 ],\n",
      "       [1.        , 0.7319336 , 0.5986328 ],\n",
      "       [1.        , 0.15600586, 0.15600586],\n",
      "       [3.        , 0.05807495, 0.86621094],\n",
      "       [8.        , 0.6010742 , 0.7080078 ],\n",
      "       [5.        , 0.02058411, 0.96972656]], dtype=float32)\n",
      "newick: ((0:0.601074,((1:0.156006,(3:0.731934,4:0.598633)8:0.156006)9:0.058075,2:0.866211)10:0.708008)11:0.020584,(5:0.374512,6:0.950684)7:0.969727)12;\n",
      "m (convert):\n",
      "array([[0.        , 0.37451172, 0.9506836 ],\n",
      "       [1.        , 0.7319336 , 0.5986328 ],\n",
      "       [1.        , 0.15600586, 0.15600586],\n",
      "       [3.        , 0.05807495, 0.86621094],\n",
      "       [8.        , 0.6010742 , 0.7080078 ],\n",
      "       [5.        , 0.02058411, 0.96972656]], dtype=float32)\n"
     ]
    }
   ],
   "source": [
    "# Let's generate a new v with 7 leaves using sample\n",
    "m7 = sample_matrix(7)\n",
    "\n",
    "print(f\"m (sampled):\\n{repr(m7)}\")\n",
    "\n",
    "newick7 = to_newick(m7)\n",
    "\n",
    "print(f\"newick: {newick7}\")\n",
    "\n",
    "m7_new = to_matrix(newick7)\n",
    "\n",
    "print(f\"m (convert):\\n{repr(m7_new)}\")"
   ]
  },
  {
   "cell_type": "markdown",
   "metadata": {},
   "source": [
    "phylo2mat can also convert Newick strings without parent labels. \n",
    "We also have several functions in ```phylo2vec.utils.newick``` to process Newick strings"
   ]
  },
  {
   "cell_type": "code",
   "execution_count": 7,
   "metadata": {},
   "outputs": [
    {
     "name": "stdout",
     "output_type": "stream",
     "text": [
      "Newick with parent labels: ((0:0.601074,((1:0.156006,(3:0.731934,4:0.598633)8:0.156006)9:0.058075,2:0.866211)10:0.708008)11:0.020584,(5:0.374512,6:0.950684)7:0.969727)12;\n",
      "Newick with parent labels: ((0:0.601074,((1:0.156006,(3:0.731934,4:0.598633):0.156006):0.058075,2:0.866211):0.708008):0.020584,(5:0.374512,6:0.950684):0.969727);\n"
     ]
    }
   ],
   "source": [
    "from phylo2vec.utils import remove_parent_labels\n",
    "\n",
    "newick7_no_parent = remove_parent_labels(newick7)\n",
    "\n",
    "print(f\"Newick with parent labels: {newick7}\")\n",
    "print(f\"Newick with parent labels: {newick7_no_parent}\")"
   ]
  },
  {
   "cell_type": "code",
   "execution_count": null,
   "metadata": {},
   "outputs": [
    {
     "data": {
      "text/plain": [
       "array([[0.        , 0.37451172, 0.9506836 ],\n",
       "       [1.        , 0.7319336 , 0.5986328 ],\n",
       "       [1.        , 0.15600586, 0.15600586],\n",
       "       [3.        , 0.05807495, 0.86621094],\n",
       "       [8.        , 0.6010742 , 0.7080078 ],\n",
       "       [5.        , 0.02058411, 0.96972656]], dtype=float32)"
      ]
     },
     "execution_count": 8,
     "metadata": {},
     "output_type": "execute_result"
    }
   ],
   "source": [
    "from phylo2vec.matrix import to_matrix_no_parents\n",
    "\n",
    "to_matrix_no_parents(newick7_no_parent)  # Same as m7, m7_new"
   ]
  },
  {
   "cell_type": "markdown",
   "metadata": {},
   "source": [
    "Many functionalities are currently missing for phylo2mat to be complete. These funcs are more complicated to implement b/c of the branch lengths (e.g., adding/removing leaves, reodering...)"
   ]
  },
  {
   "cell_type": "code",
   "execution_count": 9,
   "metadata": {},
   "outputs": [
    {
     "name": "stdout",
     "output_type": "stream",
     "text": [
      "((0:0.601074,((1:0.156006,(3:0.731934,4:0.598633)8:0.156006)9:0.058075,2:0.866211)10:0.708008)11:0.020584,(5:0.374512,6:0.950684)7:0.969727)12;\n"
     ]
    },
    {
     "data": {
      "image/png": "[encoded data removed]",
      "text/plain": [
       "<Figure size 640x480 with 1 Axes>"
      ]
     },
     "metadata": {},
     "output_type": "display_data"
    },
    {
     "name": "stdout",
     "output_type": "stream",
     "text": [
      "((0:1.53633,((1:0.768164,(3:0.384082,4:0.384082)8:0.384082)9:0.384082,2:1.15225)10:0.384082)11:0.384082,(5:0.960206,6:0.960206)7:0.960206);\n"
     ]
    },
    {
     "data": {
      "text/plain": [
       "<Axes: >"
      ]
     },
     "execution_count": 9,
     "metadata": {},
     "output_type": "execute_result"
    },
    {
     "data": {
      "image/png": "[encoded data removed]",
      "text/plain": [
       "<Figure size 640x480 with 1 Axes>"
      ]
     },
     "metadata": {},
     "output_type": "display_data"
    }
   ],
   "source": [
    "from ete3 import Tree\n",
    "\n",
    "newick = \"((0:0.601074,((1:0.156006,(3:0.731934,4:0.598633)8:0.156006)9:0.058075,2:0.866211)10:0.708008)11:0.020584,(5:0.374512,6:0.950684)7:0.969727)12;\"\n",
    "\n",
    "tr = Tree(newick, format=1)\n",
    "\n",
    "print(newick)\n",
    "\n",
    "plot_tree_ete3(newick)\n",
    "plt.show()\n",
    "\n",
    "tr.convert_to_ultrametric()\n",
    "\n",
    "nw2 = tr.write(format=1)\n",
    "\n",
    "print(nw2)\n",
    "\n",
    "plot_tree_ete3(nw2)"
   ]
  }
 ],
 "metadata": {
  "kernelspec": {
   "display_name": "phylo",
   "language": "python",
   "name": "python3"
  },
  "language_info": {
   "codemirror_mode": {
    "name": "ipython",
    "version": 3
   },
   "file_extension": ".py",
   "mimetype": "text/x-python",
   "name": "python",
   "nbconvert_exporter": "python",
   "pygments_lexer": "ipython3",
   "version": "3.10.10"
  }
 },
 "nbformat": 4,
 "nbformat_minor": 2
}
